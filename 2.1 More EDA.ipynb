{
 "cells": [
  {
   "cell_type": "code",
   "execution_count": null,
   "metadata": {},
   "outputs": [],
   "source": []
  },
  {
   "cell_type": "code",
   "execution_count": 1,
   "metadata": {},
   "outputs": [
    {
     "name": "stdout",
     "output_type": "stream",
     "text": [
      "SEX               category\n",
      "_AGE_GROUP        category\n",
      "_RACEGR3          category\n",
      "_EDUCA_GROUP      category\n",
      "_INCOM_GROUP      category\n",
      "_SMOKER3_GROUP    category\n",
      "_BMI5CAT          category\n",
      "_FRTLT1A          category\n",
      "_VEGLT1A          category\n",
      "_TOTINDA          category\n",
      "_RFBING5          category\n",
      "_ECIGSTS_GROUP    category\n",
      "_PHYS14D          category\n",
      "_MENT14D          category\n",
      "CHECKUP1_GROUP    category\n",
      "_LTASTH1          category\n",
      "dtype: object\n"
     ]
    }
   ],
   "source": [
    "import pandas as pd\n",
    "import matplotlib.pyplot as plt\n",
    "import seaborn as sns\n",
    "import statsmodels.api as sm\n",
    "import statsmodels.formula.api as smf\n",
    "from sklearn.feature_selection import RFE\n",
    "from sklearn.linear_model import LogisticRegression\n",
    "\n",
    "df = pd.read_csv('Variable_final.csv')\n",
    "\n",
    "df = df.astype(\"category\")\n",
    "print(df.dtypes)  # 查看所有变量的数据类型\n"
   ]
  },
  {
   "cell_type": "code",
   "execution_count": 2,
   "metadata": {},
   "outputs": [
    {
     "name": "stdout",
     "output_type": "stream",
     "text": [
      "int32\n",
      "0    264659\n",
      "1     42549\n",
      "Name: _LTASTH1, dtype: int64\n",
      "0\n",
      "[0 1]\n"
     ]
    }
   ],
   "source": [
    "df['_LTASTH1'] = df['_LTASTH1'].map({1.0: 0, 2.0: 1})\n",
    "df['_LTASTH1'] = df['_LTASTH1'].astype(int)\n",
    "\n",
    "\n",
    "print(df['_LTASTH1'].dtype)  # 看看数据类型\n",
    "print(df['_LTASTH1'].value_counts())  # 看看具体值\n",
    "\n",
    "print(df['_LTASTH1'].isna().sum())  # 检查缺失值数量\n",
    "print(df['_LTASTH1'].unique())  # 看看具体取值\n"
   ]
  },
  {
   "cell_type": "code",
   "execution_count": 3,
   "metadata": {},
   "outputs": [],
   "source": [
    "# 定义变量\n",
    "demographic_vars = [\"C(SEX)\", \"C(_AGE_GROUP)\", \"C(_RACEGR3)\", \"C(_EDUCA_GROUP)\", \"C(_INCOM_GROUP)\"]\n",
    "lifestyle_vars = [\"C(_SMOKER3_GROUP)\", \"C(_BMI5CAT)\", \"C(_FRTLT1A)\", \"C(_VEGLT1A)\", \n",
    "                  \"C(_TOTINDA)\", \"C(_RFBING5)\", \"C(_ECIGSTS_GROUP)\", \"C(_PHYS14D)\", \n",
    "                  \"C(_MENT14D)\", \"C(CHECKUP1_GROUP)\"]\n",
    "\n",
    "\n",
    "all_vars = demographic_vars + lifestyle_vars"
   ]
  },
  {
   "cell_type": "code",
   "execution_count": 4,
   "metadata": {},
   "outputs": [
    {
     "name": "stdout",
     "output_type": "stream",
     "text": [
      "Available columns in df: Index(['SEX', '_AGE_GROUP', '_RACEGR3', '_EDUCA_GROUP', '_INCOM_GROUP',\n",
      "       '_SMOKER3_GROUP', '_BMI5CAT', '_FRTLT1A', '_VEGLT1A', '_TOTINDA',\n",
      "       '_RFBING5', '_ECIGSTS_GROUP', '_PHYS14D', '_MENT14D', 'CHECKUP1_GROUP',\n",
      "       '_LTASTH1'],\n",
      "      dtype='object')\n",
      "        Variable  Category  Count (n)   Weighted % (95% CI)\n",
      "0            SEX       2.0     164674  (164674.0, 164674.0)\n",
      "1            SEX       1.0     142534  (142534.0, 142534.0)\n",
      "2     _AGE_GROUP       2.0     119295  (119295.0, 119295.0)\n",
      "3     _AGE_GROUP       3.0     101982  (101982.0, 101982.0)\n",
      "4     _AGE_GROUP       1.0      85931    (85931.0, 85931.0)\n",
      "5       _RACEGR3       1.0     240556  (240556.0, 240556.0)\n",
      "6       _RACEGR3       5.0      22901    (22901.0, 22901.0)\n",
      "7       _RACEGR3       2.0      22687    (22687.0, 22687.0)\n",
      "8       _RACEGR3       3.0      14543    (14543.0, 14543.0)\n",
      "9       _RACEGR3       4.0       6521      (6521.0, 6521.0)\n",
      "10  _EDUCA_GROUP       2.0     290086  (290086.0, 290086.0)\n",
      "11  _EDUCA_GROUP       1.0      17122    (17122.0, 17122.0)\n",
      "12  _INCOM_GROUP       3.0     200492  (200492.0, 200492.0)\n",
      "13  _INCOM_GROUP       2.0      79043    (79043.0, 79043.0)\n",
      "14  _INCOM_GROUP       1.0      27673    (27673.0, 27673.0)\n"
     ]
    }
   ],
   "source": [
    "import numpy as np\n",
    "import statsmodels.stats.weightstats as smw\n",
    "\n",
    "def weighted_ci(data, weights, confidence=0.95):\n",
    "    weighted_stats = smw.DescrStatsW(data, weights=weights)\n",
    "    return weighted_stats.tconfint_mean(alpha=1-confidence)\n",
    "\n",
    "\n",
    "# 先检查列名是否匹配\n",
    "print(\"Available columns in df:\", df.columns)\n",
    "\n",
    "# 移除 \"C()\"，确保列名匹配\n",
    "demographic_vars = [\"SEX\", \"_AGE_GROUP\", \"_RACEGR3\", \"_EDUCA_GROUP\", \"_INCOM_GROUP\"]\n",
    "lifestyle_vars = [\"_SMOKER3_GROUP\", \"_BMI5CAT\", \"_FRTLT1A\", \"_VEGLT1A\", \n",
    "                  \"_TOTINDA\", \"_RFBING5\", \"_ECIGSTS_GROUP\", \"_PHYS14D\", \n",
    "                  \"_MENT14D\", \"CHECKUP1_GROUP\"]\n",
    "asthma_vars = ['_LTASTH1']\n",
    "all_vars = demographic_vars + lifestyle_vars\n",
    "\n",
    "# 重新计算表格\n",
    "table_data = []\n",
    "\n",
    "for var in demographic_vars:\n",
    "    if var not in df.columns:\n",
    "        print(f\"Warning: {var} not found in df, skipping...\")\n",
    "        continue  # 如果变量不在 df 中，跳过\n",
    "\n",
    "    counts = df[var].value_counts(dropna=True)\n",
    "    total = counts.sum()\n",
    "    for category, count in counts.items():\n",
    "        ci_str = weighted_ci(count, total)\n",
    "        table_data.append([var, category, count, ci_str])\n",
    "\n",
    "table_df = pd.DataFrame(table_data, columns=[\"Variable\", \"Category\", \"Count (n)\", \"Weighted % (95% CI)\"])\n",
    "print(table_df)\n",
    "\n"
   ]
  },
  {
   "cell_type": "code",
   "execution_count": 5,
   "metadata": {},
   "outputs": [
    {
     "name": "stdout",
     "output_type": "stream",
     "text": [
      "          Variable  Category  Count (n)   Weighted % (95% CI)\n",
      "0   _SMOKER3_GROUP       3.0     173790  (173790.0, 173790.0)\n",
      "1   _SMOKER3_GROUP       2.0      88085    (88085.0, 88085.0)\n",
      "2   _SMOKER3_GROUP       1.0      45333    (45333.0, 45333.0)\n",
      "3         _BMI5CAT       3.0     111677  (111677.0, 111677.0)\n",
      "4         _BMI5CAT       4.0      98251    (98251.0, 98251.0)\n",
      "5         _BMI5CAT       2.0      92842    (92842.0, 92842.0)\n",
      "6         _BMI5CAT       1.0       4438      (4438.0, 4438.0)\n",
      "7         _FRTLT1A       1.0     200302  (200302.0, 200302.0)\n",
      "8         _FRTLT1A       2.0     106906  (106906.0, 106906.0)\n",
      "9         _VEGLT1A       1.0     257634  (257634.0, 257634.0)\n",
      "10        _VEGLT1A       2.0      49574    (49574.0, 49574.0)\n",
      "11        _TOTINDA       1.0     228083  (228083.0, 228083.0)\n",
      "12        _TOTINDA       2.0      79125    (79125.0, 79125.0)\n",
      "13        _RFBING5       1.0     262045  (262045.0, 262045.0)\n",
      "14        _RFBING5       2.0      45163    (45163.0, 45163.0)\n",
      "15  _ECIGSTS_GROUP       3.0     257977  (257977.0, 257977.0)\n",
      "16  _ECIGSTS_GROUP       2.0      39222    (39222.0, 39222.0)\n",
      "17  _ECIGSTS_GROUP       1.0      10009    (10009.0, 10009.0)\n",
      "18        _PHYS14D       1.0     191477  (191477.0, 191477.0)\n",
      "19        _PHYS14D       2.0      74558    (74558.0, 74558.0)\n",
      "20        _PHYS14D       3.0      41173    (41173.0, 41173.0)\n",
      "21        _MENT14D       1.0     204653  (204653.0, 204653.0)\n",
      "22        _MENT14D       2.0      68537    (68537.0, 68537.0)\n",
      "23        _MENT14D       3.0      34018    (34018.0, 34018.0)\n",
      "24  CHECKUP1_GROUP       1.0     225867  (225867.0, 225867.0)\n",
      "25  CHECKUP1_GROUP       2.0      81341    (81341.0, 81341.0)\n"
     ]
    }
   ],
   "source": [
    "# 重新计算表格\n",
    "table_data = []\n",
    "\n",
    "for var in lifestyle_vars:\n",
    "    if var not in df.columns:\n",
    "        print(f\"Warning: {var} not found in df, skipping...\")\n",
    "        continue  # 如果变量不在 df 中，跳过\n",
    "\n",
    "    counts = df[var].value_counts(dropna=True)\n",
    "    total = counts.sum()\n",
    "    for category, count in counts.items():\n",
    "        ci_str = weighted_ci(count, total)\n",
    "        table_data.append([var, category, count, ci_str])\n",
    "\n",
    "table_df = pd.DataFrame(table_data, columns=[\"Variable\", \"Category\", \"Count (n)\", \"Weighted % (95% CI)\"])\n",
    "print(table_df)"
   ]
  },
  {
   "cell_type": "code",
   "execution_count": 6,
   "metadata": {},
   "outputs": [
    {
     "name": "stdout",
     "output_type": "stream",
     "text": [
      "   Variable  Category  Count (n)   Weighted % (95% CI)\n",
      "0  _LTASTH1         0     264659  (264659.0, 264659.0)\n",
      "1  _LTASTH1         1      42549    (42549.0, 42549.0)\n"
     ]
    }
   ],
   "source": [
    "# 重新计算表格\n",
    "table_data = []\n",
    "\n",
    "for var in asthma_vars:\n",
    "    if var not in df.columns:\n",
    "        print(f\"Warning: {var} not found in df, skipping...\")\n",
    "        continue  # 如果变量不在 df 中，跳过\n",
    "\n",
    "    counts = df[var].value_counts(dropna=True)\n",
    "    total = counts.sum()\n",
    "    for category, count in counts.items():\n",
    "        ci_str = weighted_ci(count, total)\n",
    "        table_data.append([var, category, count, ci_str])\n",
    "\n",
    "table_df = pd.DataFrame(table_data, columns=[\"Variable\", \"Category\", \"Count (n)\", \"Weighted % (95% CI)\"])\n",
    "print(table_df)"
   ]
  },
  {
   "cell_type": "code",
   "execution_count": 7,
   "metadata": {},
   "outputs": [
    {
     "name": "stdout",
     "output_type": "stream",
     "text": [
      "          Variable         Chi2        p-value  DOF\n",
      "0              SEX  1582.113553   0.000000e+00    1\n",
      "1       _AGE_GROUP   602.626632  1.384489e-131    2\n",
      "2         _RACEGR3   723.322111  3.105276e-155    4\n",
      "3     _EDUCA_GROUP   269.518402   1.445013e-60    1\n",
      "4     _INCOM_GROUP  2436.721457   0.000000e+00    2\n",
      "5   _SMOKER3_GROUP   469.187263  1.310027e-102    2\n",
      "6         _BMI5CAT  2058.806052   0.000000e+00    3\n",
      "7         _FRTLT1A   109.836935   1.063924e-25    1\n",
      "8         _VEGLT1A    45.557854   1.481962e-11    1\n",
      "9         _TOTINDA   476.989951  9.654455e-106    1\n",
      "10        _RFBING5    14.783221   1.206038e-04    1\n",
      "11  _ECIGSTS_GROUP  1053.012840  2.193649e-229    2\n",
      "12        _PHYS14D  7112.828402   0.000000e+00    2\n",
      "13        _MENT14D  4901.325805   0.000000e+00    2\n",
      "14  CHECKUP1_GROUP    69.142130   9.161725e-17    1\n"
     ]
    }
   ],
   "source": [
    "import pandas as pd\n",
    "import scipy.stats as stats\n",
    "\n",
    "# 定义变量组\n",
    "demographic_vars = [\"SEX\", \"_AGE_GROUP\", \"_RACEGR3\", \"_EDUCA_GROUP\", \"_INCOM_GROUP\"]\n",
    "lifestyle_vars = [\"_SMOKER3_GROUP\", \"_BMI5CAT\", \"_FRTLT1A\", \"_VEGLT1A\", \n",
    "                  \"_TOTINDA\", \"_RFBING5\", \"_ECIGSTS_GROUP\", \"_PHYS14D\", \n",
    "                  \"_MENT14D\", \"CHECKUP1_GROUP\"]\n",
    "asthma_var = '_LTASTH1'\n",
    "\n",
    "# 计算卡方检验\n",
    "chi2_results = []\n",
    "\n",
    "for var in demographic_vars + lifestyle_vars:\n",
    "    contingency_table = pd.crosstab(df[var], df[asthma_var])\n",
    "    chi2, p, dof, expected = stats.chi2_contingency(contingency_table)\n",
    "    chi2_results.append({\"Variable\": var, \"Chi2\": chi2, \"p-value\": p, \"DOF\": dof})\n",
    "\n",
    "chi2_df = pd.DataFrame(chi2_results)\n",
    "print(chi2_df)"
   ]
  },
  {
   "cell_type": "code",
   "execution_count": 8,
   "metadata": {},
   "outputs": [
    {
     "name": "stdout",
     "output_type": "stream",
     "text": [
      "          Variable                                         Cramér's V\n",
      "0              SEX  _LTASTH1\n",
      "0    0.077317\n",
      "1    0.192830\n",
      "dtype: fl...\n",
      "1       _AGE_GROUP  _LTASTH1\n",
      "0    0.047718\n",
      "1    0.119009\n",
      "dtype: fl...\n",
      "2         _RACEGR3  _LTASTH1\n",
      "0    0.052278\n",
      "1    0.130383\n",
      "dtype: fl...\n",
      "3     _EDUCA_GROUP  _LTASTH1\n",
      "0    0.031912\n",
      "1    0.079588\n",
      "dtype: fl...\n",
      "4     _INCOM_GROUP  _LTASTH1\n",
      "0    0.095953\n",
      "1    0.239309\n",
      "dtype: fl...\n",
      "5   _SMOKER3_GROUP  _LTASTH1\n",
      "0    0.042105\n",
      "1    0.105009\n",
      "dtype: fl...\n",
      "6         _BMI5CAT  _LTASTH1\n",
      "0    0.088199\n",
      "1    0.219970\n",
      "dtype: fl...\n",
      "7         _FRTLT1A  _LTASTH1\n",
      "0    0.020372\n",
      "1    0.050808\n",
      "dtype: fl...\n",
      "8         _VEGLT1A  _LTASTH1\n",
      "0    0.013120\n",
      "1    0.032722\n",
      "dtype: fl...\n",
      "9         _TOTINDA  _LTASTH1\n",
      "0    0.042453\n",
      "1    0.105879\n",
      "dtype: fl...\n",
      "10        _RFBING5  _LTASTH1\n",
      "0    0.007474\n",
      "1    0.018640\n",
      "dtype: fl...\n",
      "11  _ECIGSTS_GROUP  _LTASTH1\n",
      "0    0.063077\n",
      "1    0.157316\n",
      "dtype: fl...\n",
      "12        _PHYS14D  _LTASTH1\n",
      "0    0.163937\n",
      "1    0.408862\n",
      "dtype: fl...\n",
      "13        _MENT14D  _LTASTH1\n",
      "0    0.136086\n",
      "1    0.339400\n",
      "dtype: fl...\n",
      "14  CHECKUP1_GROUP  _LTASTH1\n",
      "0    0.016163\n",
      "1    0.040311\n",
      "dtype: fl...\n"
     ]
    }
   ],
   "source": [
    "import numpy as np\n",
    "\n",
    "def cramers_v(contingency_table):\n",
    "    \"\"\"计算 Cramér's V 以衡量两个分类变量的关联强度\"\"\"\n",
    "    chi2, _, _, _ = stats.chi2_contingency(contingency_table)\n",
    "    n = np.sum(contingency_table)  # 总样本数\n",
    "    min_dim = min(contingency_table.shape) - 1  # k - 1\n",
    "    return np.sqrt(chi2 / (n * min_dim))\n",
    "\n",
    "# 计算 Cramér's V\n",
    "cramers_v_results = []\n",
    "\n",
    "for var in demographic_vars + lifestyle_vars:\n",
    "    contingency_table = pd.crosstab(df[var], df[asthma_var])\n",
    "    v_value = cramers_v(contingency_table)\n",
    "    cramers_v_results.append({\"Variable\": var, \"Cramér's V\": v_value})\n",
    "\n",
    "# 转换为 DataFrame 并展示结果\n",
    "cramers_v_df = pd.DataFrame(cramers_v_results)\n",
    "print(cramers_v_df)"
   ]
  },
  {
   "cell_type": "code",
   "execution_count": null,
   "metadata": {},
   "outputs": [],
   "source": []
  }
 ],
 "metadata": {
  "kernelspec": {
   "display_name": "base",
   "language": "python",
   "name": "python3"
  },
  "language_info": {
   "codemirror_mode": {
    "name": "ipython",
    "version": 3
   },
   "file_extension": ".py",
   "mimetype": "text/x-python",
   "name": "python",
   "nbconvert_exporter": "python",
   "pygments_lexer": "ipython3",
   "version": "3.9.7"
  }
 },
 "nbformat": 4,
 "nbformat_minor": 2
}
