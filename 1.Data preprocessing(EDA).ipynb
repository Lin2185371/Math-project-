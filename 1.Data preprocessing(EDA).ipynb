{
 "cells": [
  {
   "cell_type": "markdown",
   "metadata": {},
   "source": [
    "#  Data preprocessing (screening out variables and removing missing values)"
   ]
  },
  {
   "cell_type": "code",
   "execution_count": null,
   "metadata": {},
   "outputs": [],
   "source": [
    "import pandas as pd\n",
    "import matplotlib.pyplot as plt\n",
    "import seaborn as sns\n",
    "import matplotlib.pyplot as plt\n",
    "\n",
    "\n",
    "plt.rcParams['font.sans-serif'] = ['SimHei']  \n",
    "\n",
    "plt.rcParams['axes.unicode_minus'] = False"
   ]
  },
  {
   "cell_type": "code",
   "execution_count": 2,
   "metadata": {},
   "outputs": [],
   "source": [
    "df = pd.read_csv('LLCP2017.csv')\n"
   ]
  },
  {
   "cell_type": "code",
   "execution_count": 3,
   "metadata": {},
   "outputs": [
    {
     "name": "stdout",
     "output_type": "stream",
     "text": [
      "        SEX  _AGE_G  _RACEGR3  _EDUCAG  _INCOMG  _SMOKER3  _BMI5CAT  _FRTLT1A  \\\n",
      "0       2.0     6.0       1.0      4.0      4.0       4.0       3.0       1.0   \n",
      "1       1.0     6.0       1.0      4.0      5.0       4.0       3.0       1.0   \n",
      "2       1.0     6.0       1.0      1.0      9.0       4.0       3.0       2.0   \n",
      "3       2.0     6.0       1.0      1.0      1.0       4.0       3.0       2.0   \n",
      "4       2.0     6.0       1.0      1.0      1.0       3.0       2.0       1.0   \n",
      "...     ...     ...       ...      ...      ...       ...       ...       ...   \n",
      "450011  2.0     2.0       5.0      3.0      9.0       4.0       3.0       1.0   \n",
      "450012  1.0     6.0       5.0      2.0      1.0       4.0       2.0       2.0   \n",
      "450013  1.0     4.0       5.0      4.0      5.0       4.0       4.0       2.0   \n",
      "450014  2.0     2.0       5.0      3.0      1.0       3.0       4.0       2.0   \n",
      "450015  2.0     2.0       5.0      4.0      4.0       4.0       3.0       2.0   \n",
      "\n",
      "        _VEGLT1A  _TOTINDA  _RFBING5  _ECIGSTS  _PHYS14D  _MENT14D  CHECKUP1  \\\n",
      "0            1.0       1.0       1.0       4.0       1.0       1.0       2.0   \n",
      "1            1.0       1.0       1.0       4.0       1.0       1.0       1.0   \n",
      "2            2.0       2.0       1.0       4.0       1.0       1.0       1.0   \n",
      "3            9.0       9.0       1.0       4.0       1.0       1.0       1.0   \n",
      "4            2.0       2.0       1.0       4.0       3.0       1.0       1.0   \n",
      "...          ...       ...       ...       ...       ...       ...       ...   \n",
      "450011       1.0       1.0       1.0       4.0       1.0       1.0       1.0   \n",
      "450012       1.0       2.0       1.0       4.0       1.0       2.0       2.0   \n",
      "450013       1.0       2.0       1.0       4.0       1.0       1.0       2.0   \n",
      "450014       2.0       2.0       1.0       4.0       1.0       1.0       1.0   \n",
      "450015       2.0       2.0       1.0       4.0       1.0       1.0       1.0   \n",
      "\n",
      "        _LTASTH1  \n",
      "0            1.0  \n",
      "1            1.0  \n",
      "2            1.0  \n",
      "3            1.0  \n",
      "4            2.0  \n",
      "...          ...  \n",
      "450011       1.0  \n",
      "450012       1.0  \n",
      "450013       1.0  \n",
      "450014       2.0  \n",
      "450015       2.0  \n",
      "\n",
      "[450016 rows x 16 columns]\n"
     ]
    }
   ],
   "source": [
    "\n",
    "selected_columns = ['SEX', '_AGE_G','_RACEGR3','_EDUCAG', '_INCOMG', '_SMOKER3', '_BMI5CAT','_FRTLT1A', '_VEGLT1A', '_TOTINDA', '_RFBING5', '_ECIGSTS','_PHYS14D','_MENT14D','CHECKUP1','_LTASTH1']\n",
    "\n",
    "new_df = df[selected_columns]\n",
    "\n",
    "new_df.to_csv('Variable_0.csv', index=False)\n",
    "\n",
    "\n",
    "print(new_df)"
   ]
  },
  {
   "cell_type": "code",
   "execution_count": 4,
   "metadata": {},
   "outputs": [],
   "source": [
    "df = pd.read_csv('Variable_0.csv', na_values=['', 'NA', 'null', '9','77','99','88'])"
   ]
  },
  {
   "cell_type": "code",
   "execution_count": 5,
   "metadata": {},
   "outputs": [
    {
     "name": "stdout",
     "output_type": "stream",
     "text": [
      "284\n",
      "29611\n",
      "<bound method DataFrame.info of         SEX  _AGE_G  _RACEGR3  _EDUCAG  _INCOMG  _SMOKER3  _BMI5CAT  _FRTLT1A  \\\n",
      "0       2.0     6.0       1.0      4.0      4.0       4.0       3.0       1.0   \n",
      "1       1.0     6.0       1.0      4.0      5.0       4.0       3.0       1.0   \n",
      "2       1.0     6.0       1.0      1.0      NaN       4.0       3.0       2.0   \n",
      "3       2.0     6.0       1.0      1.0      1.0       4.0       3.0       2.0   \n",
      "4       2.0     6.0       1.0      1.0      1.0       3.0       2.0       1.0   \n",
      "...     ...     ...       ...      ...      ...       ...       ...       ...   \n",
      "450011  2.0     2.0       5.0      3.0      NaN       4.0       3.0       1.0   \n",
      "450012  1.0     6.0       5.0      2.0      1.0       4.0       2.0       2.0   \n",
      "450013  1.0     4.0       5.0      4.0      5.0       4.0       4.0       2.0   \n",
      "450014  2.0     2.0       5.0      3.0      1.0       3.0       4.0       2.0   \n",
      "450015  2.0     2.0       5.0      4.0      4.0       4.0       3.0       2.0   \n",
      "\n",
      "        _VEGLT1A  _TOTINDA  _RFBING5  _ECIGSTS  _PHYS14D  _MENT14D  CHECKUP1  \\\n",
      "0            1.0       1.0       1.0       4.0       1.0       1.0       2.0   \n",
      "1            1.0       1.0       1.0       4.0       1.0       1.0       1.0   \n",
      "2            2.0       2.0       1.0       4.0       1.0       1.0       1.0   \n",
      "3            NaN       NaN       1.0       4.0       1.0       1.0       1.0   \n",
      "4            2.0       2.0       1.0       4.0       3.0       1.0       1.0   \n",
      "...          ...       ...       ...       ...       ...       ...       ...   \n",
      "450011       1.0       1.0       1.0       4.0       1.0       1.0       1.0   \n",
      "450012       1.0       2.0       1.0       4.0       1.0       2.0       2.0   \n",
      "450013       1.0       2.0       1.0       4.0       1.0       1.0       2.0   \n",
      "450014       2.0       2.0       1.0       4.0       1.0       1.0       1.0   \n",
      "450015       2.0       2.0       1.0       4.0       1.0       1.0       1.0   \n",
      "\n",
      "        _LTASTH1  \n",
      "0            1.0  \n",
      "1            1.0  \n",
      "2            1.0  \n",
      "3            1.0  \n",
      "4            2.0  \n",
      "...          ...  \n",
      "450011       1.0  \n",
      "450012       1.0  \n",
      "450013       1.0  \n",
      "450014       2.0  \n",
      "450015       2.0  \n",
      "\n",
      "[450016 rows x 16 columns]>\n"
     ]
    }
   ],
   "source": [
    "print(df['SEX'].isna().sum())\n",
    "print(df['_RFBING5'].isna().sum())\n",
    "print(df.info)"
   ]
  },
  {
   "cell_type": "code",
   "execution_count": 6,
   "metadata": {},
   "outputs": [
    {
     "data": {
      "text/plain": [
       "Index(['SEX', '_AGE_G', '_RACEGR3', '_EDUCAG', '_INCOMG', '_SMOKER3',\n",
       "       '_BMI5CAT', '_FRTLT1A', '_VEGLT1A', '_TOTINDA', '_RFBING5', '_ECIGSTS',\n",
       "       '_PHYS14D', '_MENT14D', 'CHECKUP1', '_LTASTH1'],\n",
       "      dtype='object')"
      ]
     },
     "execution_count": 6,
     "metadata": {},
     "output_type": "execute_result"
    }
   ],
   "source": [
    "df.columns"
   ]
  },
  {
   "cell_type": "code",
   "execution_count": 7,
   "metadata": {},
   "outputs": [
    {
     "name": "stdout",
     "output_type": "stream",
     "text": [
      "SEX           284\n",
      "_AGE_G          0\n",
      "_RACEGR3     8755\n",
      "_EDUCAG      1707\n",
      "_INCOMG     75085\n",
      "_SMOKER3    18724\n",
      "_BMI5CAT    36446\n",
      "_FRTLT1A    39357\n",
      "_VEGLT1A    47460\n",
      "_TOTINDA    34203\n",
      "_RFBING5    29611\n",
      "_ECIGSTS    20646\n",
      "_PHYS14D     9331\n",
      "_MENT14D     7203\n",
      "CHECKUP1      526\n",
      "_LTASTH1     1463\n",
      "dtype: int64\n"
     ]
    }
   ],
   "source": [
    "len(df)\n",
    "\n",
    "print(df.isnull().sum())"
   ]
  },
  {
   "cell_type": "code",
   "execution_count": 8,
   "metadata": {},
   "outputs": [
    {
     "name": "stdout",
     "output_type": "stream",
     "text": [
      "The number of rows after removing missing values: 392554\n",
      "The final number of rows of data: 307208\n"
     ]
    }
   ],
   "source": [
    "df_clean = df.dropna(subset=[ '_SMOKER3','_BMI5CAT','_RFBING5'])  \n",
    "print(\"The number of rows after removing missing values:\", df_clean.shape[0])\n",
    "df_clean = df.dropna()\n",
    "print(\"The final number of rows of data:\", len(df_clean))\n"
   ]
  },
  {
   "cell_type": "code",
   "execution_count": 9,
   "metadata": {},
   "outputs": [
    {
     "name": "stdout",
     "output_type": "stream",
     "text": [
      "In df_clean, the number of rows with ASTHMA3 equal to 1 is: 42549\n"
     ]
    }
   ],
   "source": [
    "\n",
    "count_1 = df_clean[df_clean['_LTASTH1'] == 2].shape[0]\n",
    "print(\"In df_clean, the number of rows with ASTHMA3 equal to 1 is:\", count_1)\n"
   ]
  },
  {
   "cell_type": "markdown",
   "metadata": {},
   "source": [
    "The proportions have remained basically the same, the original 450,000, 60,000 asthma. The new data set is 307208, 42549 asthma"
   ]
  },
  {
   "cell_type": "markdown",
   "metadata": {},
   "source": [
    "## Reclassify variables(Mapping)"
   ]
  },
  {
   "cell_type": "code",
   "execution_count": 10,
   "metadata": {},
   "outputs": [
    {
     "name": "stderr",
     "output_type": "stream",
     "text": [
      "/var/folders/49/vkc7dh1j2mq0ncj_gx61lskh0000gn/T/ipykernel_3712/725741163.py:13: SettingWithCopyWarning: \n",
      "A value is trying to be set on a copy of a slice from a DataFrame.\n",
      "Try using .loc[row_indexer,col_indexer] = value instead\n",
      "\n",
      "See the caveats in the documentation: https://pandas.pydata.org/pandas-docs/stable/user_guide/indexing.html#returning-a-view-versus-a-copy\n",
      "  df_clean[\"_AGE_GROUP\"] = df_clean[\"_AGE_G\"].map(age_mapping)\n",
      "/var/folders/49/vkc7dh1j2mq0ncj_gx61lskh0000gn/T/ipykernel_3712/725741163.py:26: SettingWithCopyWarning: \n",
      "A value is trying to be set on a copy of a slice from a DataFrame.\n",
      "Try using .loc[row_indexer,col_indexer] = value instead\n",
      "\n",
      "See the caveats in the documentation: https://pandas.pydata.org/pandas-docs/stable/user_guide/indexing.html#returning-a-view-versus-a-copy\n",
      "  df_clean[\"_EDUCA_GROUP\"] = df_clean[\"_EDUCAG\"].map(edu_mapping)\n",
      "/var/folders/49/vkc7dh1j2mq0ncj_gx61lskh0000gn/T/ipykernel_3712/725741163.py:40: SettingWithCopyWarning: \n",
      "A value is trying to be set on a copy of a slice from a DataFrame.\n",
      "Try using .loc[row_indexer,col_indexer] = value instead\n",
      "\n",
      "See the caveats in the documentation: https://pandas.pydata.org/pandas-docs/stable/user_guide/indexing.html#returning-a-view-versus-a-copy\n",
      "  df_clean[\"_INCOM_GROUP\"] = df_clean[\"_INCOMG\"].map(income_mapping)\n",
      "/var/folders/49/vkc7dh1j2mq0ncj_gx61lskh0000gn/T/ipykernel_3712/725741163.py:53: SettingWithCopyWarning: \n",
      "A value is trying to be set on a copy of a slice from a DataFrame.\n",
      "Try using .loc[row_indexer,col_indexer] = value instead\n",
      "\n",
      "See the caveats in the documentation: https://pandas.pydata.org/pandas-docs/stable/user_guide/indexing.html#returning-a-view-versus-a-copy\n",
      "  df_clean[\"_SMOKER3_GROUP\"] = df_clean[\"_SMOKER3\"].map(smoker_mapping)\n",
      "/var/folders/49/vkc7dh1j2mq0ncj_gx61lskh0000gn/T/ipykernel_3712/725741163.py:66: SettingWithCopyWarning: \n",
      "A value is trying to be set on a copy of a slice from a DataFrame.\n",
      "Try using .loc[row_indexer,col_indexer] = value instead\n",
      "\n",
      "See the caveats in the documentation: https://pandas.pydata.org/pandas-docs/stable/user_guide/indexing.html#returning-a-view-versus-a-copy\n",
      "  df_clean[\"_ECIGSTS_GROUP\"] = df_clean[\"_ECIGSTS\"].map(esmoker_mapping)\n",
      "/var/folders/49/vkc7dh1j2mq0ncj_gx61lskh0000gn/T/ipykernel_3712/725741163.py:81: SettingWithCopyWarning: \n",
      "A value is trying to be set on a copy of a slice from a DataFrame.\n",
      "Try using .loc[row_indexer,col_indexer] = value instead\n",
      "\n",
      "See the caveats in the documentation: https://pandas.pydata.org/pandas-docs/stable/user_guide/indexing.html#returning-a-view-versus-a-copy\n",
      "  df_clean[\"CHECKUP1_GROUP\"] = df_clean[\"CHECKUP1\"].map(checkup_mapping)\n"
     ]
    }
   ],
   "source": [
    "import pandas as pd\n",
    "\n",
    "# Create a mapping dictionary to map the original _AGE_G value to 1, 2, 3\n",
    "age_mapping = {\n",
    "    1: 1,  # Age 18-24 -> 19-44 (1)\n",
    "    2: 1,  # Age 25-34 -> 19-44 (1)\n",
    "    3: 1,  # Age 35-44 -> 19-44 (1)\n",
    "    4: 2,  # Age 45-54 -> 45-64 (2)\n",
    "    5: 2,  # Age 55-64 -> 45-64 (2)\n",
    "    6: 3   # Age 65+ -> 65+ (3)\n",
    "}\n",
    "\n",
    "df_clean[\"_AGE_GROUP\"] = df_clean[\"_AGE_G\"].map(age_mapping)\n",
    "\n",
    "\n",
    "\n",
    "# Create a mapping dictionary to map the original _EDUCAG value to 1, 2\n",
    "edu_mapping = {\n",
    "    1: 1,  # Low Education\n",
    "    2: 2,  # high Education\n",
    "    3: 2,  # high Education\n",
    "    4: 2  # high Education\n",
    "}\n",
    "\n",
    "\n",
    "df_clean[\"_EDUCA_GROUP\"] = df_clean[\"_EDUCAG\"].map(edu_mapping)\n",
    "\n",
    "\n",
    "\n",
    "# Create a mapping dictionary to map the original _INCOMG value to 1, 2, 3\n",
    "income_mapping = {\n",
    "    1: 1,  # low income\n",
    "    2: 2,  # mid income\n",
    "    3: 2,  # mid income\n",
    "    4: 3,  # high income\n",
    "    5: 3  # high income\n",
    "}\n",
    "\n",
    "\n",
    "df_clean[\"_INCOM_GROUP\"] = df_clean[\"_INCOMG\"].map(income_mapping)\n",
    "\n",
    "\n",
    "\n",
    "# Create a mapping dictionary to map the original _SMOKER3 value to 1, 2, 3\n",
    "smoker_mapping = {\n",
    "    1: 1,  # Current smoker\n",
    "    2: 1,  # Current smoker\n",
    "    3: 2,  # Former smoker\n",
    "    4: 3  # Never smoked\n",
    "}\n",
    "\n",
    "\n",
    "df_clean[\"_SMOKER3_GROUP\"] = df_clean[\"_SMOKER3\"].map(smoker_mapping)\n",
    "\n",
    "\n",
    "\n",
    "# Create a mapping dictionary to map the original _ECIGSTS value to 1, 2, 3\n",
    "esmoker_mapping = {\n",
    "    1: 1,  # Current Esmoker\n",
    "    2: 1,  # Current Esmoker\n",
    "    3: 2,  # Former Emoker\n",
    "    4: 3  # Never Esmoked\n",
    "}\n",
    "\n",
    "\n",
    "df_clean[\"_ECIGSTS_GROUP\"] = df_clean[\"_ECIGSTS\"].map(esmoker_mapping)\n",
    "\n",
    "\n",
    "\n",
    "# Create a mapping dictionary to map the original CHECKUP1 value to 1, 2\n",
    "checkup_mapping = {\n",
    "    1: 1,  # within 1 year\n",
    "    2: 2,  # other\n",
    "    3: 2,  # other\n",
    "    4: 2,  # other\n",
    "    7: 2,  # other\n",
    "    8: 2  # other \n",
    "    }\n",
    "\n",
    "\n",
    "df_clean[\"CHECKUP1_GROUP\"] = df_clean[\"CHECKUP1\"].map(checkup_mapping)"
   ]
  },
  {
   "cell_type": "code",
   "execution_count": 11,
   "metadata": {},
   "outputs": [],
   "source": [
    "# Save the results and create a new CSV\n",
    "df_clean.to_csv(\"Variable_1.csv\", index=False)"
   ]
  },
  {
   "cell_type": "code",
   "execution_count": 12,
   "metadata": {},
   "outputs": [
    {
     "name": "stdout",
     "output_type": "stream",
     "text": [
      "<bound method DataFrame.info of         SEX  _AGE_G  _RACEGR3  _EDUCAG  _INCOMG  _SMOKER3  _BMI5CAT  _FRTLT1A  \\\n",
      "0       2.0     6.0       1.0      4.0      4.0       4.0       3.0       1.0   \n",
      "1       1.0     6.0       1.0      4.0      5.0       4.0       3.0       1.0   \n",
      "2       2.0     6.0       1.0      1.0      1.0       3.0       2.0       1.0   \n",
      "3       1.0     6.0       1.0      2.0      2.0       1.0       3.0       2.0   \n",
      "4       1.0     6.0       1.0      3.0      5.0       4.0       3.0       1.0   \n",
      "...     ...     ...       ...      ...      ...       ...       ...       ...   \n",
      "307203  1.0     2.0       5.0      3.0      3.0       1.0       3.0       1.0   \n",
      "307204  1.0     6.0       5.0      2.0      1.0       4.0       2.0       2.0   \n",
      "307205  1.0     4.0       5.0      4.0      5.0       4.0       4.0       2.0   \n",
      "307206  2.0     2.0       5.0      3.0      1.0       3.0       4.0       2.0   \n",
      "307207  2.0     2.0       5.0      4.0      4.0       4.0       3.0       2.0   \n",
      "\n",
      "        _VEGLT1A  _TOTINDA  ...  _PHYS14D  _MENT14D  CHECKUP1  _LTASTH1  \\\n",
      "0            1.0       1.0  ...       1.0       1.0       2.0       1.0   \n",
      "1            1.0       1.0  ...       1.0       1.0       1.0       1.0   \n",
      "2            2.0       2.0  ...       3.0       1.0       1.0       2.0   \n",
      "3            1.0       1.0  ...       2.0       1.0       1.0       1.0   \n",
      "4            1.0       2.0  ...       1.0       1.0       1.0       1.0   \n",
      "...          ...       ...  ...       ...       ...       ...       ...   \n",
      "307203       1.0       1.0  ...       1.0       1.0       1.0       1.0   \n",
      "307204       1.0       2.0  ...       1.0       2.0       2.0       1.0   \n",
      "307205       1.0       2.0  ...       1.0       1.0       2.0       1.0   \n",
      "307206       2.0       2.0  ...       1.0       1.0       1.0       2.0   \n",
      "307207       2.0       2.0  ...       1.0       1.0       1.0       2.0   \n",
      "\n",
      "        _AGE_GROUP  _EDUCA_GROUP  _INCOM_GROUP  _SMOKER3_GROUP  \\\n",
      "0                3             2             3               3   \n",
      "1                3             2             3               3   \n",
      "2                3             1             1               2   \n",
      "3                3             2             2               1   \n",
      "4                3             2             3               3   \n",
      "...            ...           ...           ...             ...   \n",
      "307203           1             2             2               1   \n",
      "307204           3             2             1               3   \n",
      "307205           2             2             3               3   \n",
      "307206           1             2             1               2   \n",
      "307207           1             2             3               3   \n",
      "\n",
      "        _ECIGSTS_GROUP  CHECKUP1_GROUP  \n",
      "0                    3               2  \n",
      "1                    3               1  \n",
      "2                    3               1  \n",
      "3                    3               1  \n",
      "4                    3               1  \n",
      "...                ...             ...  \n",
      "307203               3               1  \n",
      "307204               3               2  \n",
      "307205               3               2  \n",
      "307206               3               1  \n",
      "307207               3               1  \n",
      "\n",
      "[307208 rows x 22 columns]>\n"
     ]
    }
   ],
   "source": [
    "df = pd.read_csv('Variable_1.csv')\n",
    "\n",
    "print(df.info)"
   ]
  },
  {
   "cell_type": "code",
   "execution_count": 15,
   "metadata": {},
   "outputs": [
    {
     "name": "stdout",
     "output_type": "stream",
     "text": [
      "        SEX  _AGE_GROUP  _RACEGR3  _EDUCA_GROUP  _INCOM_GROUP  _SMOKER3_GROUP  \\\n",
      "0       2.0           3       1.0             2             3               3   \n",
      "1       1.0           3       1.0             2             3               3   \n",
      "2       2.0           3       1.0             1             1               2   \n",
      "3       1.0           3       1.0             2             2               1   \n",
      "4       1.0           3       1.0             2             3               3   \n",
      "...     ...         ...       ...           ...           ...             ...   \n",
      "307203  1.0           1       5.0             2             2               1   \n",
      "307204  1.0           3       5.0             2             1               3   \n",
      "307205  1.0           2       5.0             2             3               3   \n",
      "307206  2.0           1       5.0             2             1               2   \n",
      "307207  2.0           1       5.0             2             3               3   \n",
      "\n",
      "        _BMI5CAT  _FRTLT1A  _VEGLT1A  _TOTINDA  _RFBING5  _ECIGSTS_GROUP  \\\n",
      "0            3.0       1.0       1.0       1.0       1.0               3   \n",
      "1            3.0       1.0       1.0       1.0       1.0               3   \n",
      "2            2.0       1.0       2.0       2.0       1.0               3   \n",
      "3            3.0       2.0       1.0       1.0       1.0               3   \n",
      "4            3.0       1.0       1.0       2.0       1.0               3   \n",
      "...          ...       ...       ...       ...       ...             ...   \n",
      "307203       3.0       1.0       1.0       1.0       2.0               3   \n",
      "307204       2.0       2.0       1.0       2.0       1.0               3   \n",
      "307205       4.0       2.0       1.0       2.0       1.0               3   \n",
      "307206       4.0       2.0       2.0       2.0       1.0               3   \n",
      "307207       3.0       2.0       2.0       2.0       1.0               3   \n",
      "\n",
      "        _PHYS14D  _MENT14D  CHECKUP1_GROUP  _LTASTH1  \n",
      "0            1.0       1.0               2       1.0  \n",
      "1            1.0       1.0               1       1.0  \n",
      "2            3.0       1.0               1       2.0  \n",
      "3            2.0       1.0               1       1.0  \n",
      "4            1.0       1.0               1       1.0  \n",
      "...          ...       ...             ...       ...  \n",
      "307203       1.0       1.0               1       1.0  \n",
      "307204       1.0       2.0               2       1.0  \n",
      "307205       1.0       1.0               2       1.0  \n",
      "307206       1.0       1.0               1       2.0  \n",
      "307207       1.0       1.0               1       2.0  \n",
      "\n",
      "[307208 rows x 16 columns]\n"
     ]
    }
   ],
   "source": [
    "selected_columns_1 = ['SEX', '_AGE_GROUP','_RACEGR3','_EDUCA_GROUP', '_INCOM_GROUP', '_SMOKER3_GROUP', '_BMI5CAT','_FRTLT1A', '_VEGLT1A', '_TOTINDA', '_RFBING5', '_ECIGSTS_GROUP','_PHYS14D','_MENT14D','CHECKUP1_GROUP','_LTASTH1']\n",
    "\n",
    "new_df_1 = df[selected_columns_1]\n",
    "\n",
    "new_df_1.to_csv('Variable_final.csv', index=False)\n",
    "print(new_df_1)"
   ]
  },
  {
   "cell_type": "code",
   "execution_count": null,
   "metadata": {},
   "outputs": [
    {
     "name": "stdout",
     "output_type": "stream",
     "text": [
      "<class 'pandas.core.frame.DataFrame'>\n",
      "RangeIndex: 307208 entries, 0 to 307207\n",
      "Data columns (total 16 columns):\n",
      " #   Column          Non-Null Count   Dtype  \n",
      "---  ------          --------------   -----  \n",
      " 0   SEX             307208 non-null  float64\n",
      " 1   _AGE_GROUP      307208 non-null  int64  \n",
      " 2   _RACEGR3        307208 non-null  float64\n",
      " 3   _EDUCA_GROUP    307208 non-null  int64  \n",
      " 4   _INCOM_GROUP    307208 non-null  int64  \n",
      " 5   _SMOKER3_GROUP  307208 non-null  int64  \n",
      " 6   _BMI5CAT        307208 non-null  float64\n",
      " 7   _FRTLT1A        307208 non-null  float64\n",
      " 8   _VEGLT1A        307208 non-null  float64\n",
      " 9   _TOTINDA        307208 non-null  float64\n",
      " 10  _RFBING5        307208 non-null  float64\n",
      " 11  _ECIGSTS_GROUP  307208 non-null  int64  \n",
      " 12  _PHYS14D        307208 non-null  float64\n",
      " 13  _MENT14D        307208 non-null  float64\n",
      " 14  CHECKUP1_GROUP  307208 non-null  int64  \n",
      " 15  _LTASTH1        307208 non-null  float64\n",
      "dtypes: float64(10), int64(6)\n",
      "memory usage: 37.5 MB\n"
     ]
    }
   ],
   "source": [
    "new_df_1.info()"
   ]
  }
 ],
 "metadata": {
  "kernelspec": {
   "display_name": "Python 3",
   "language": "python",
   "name": "python3"
  },
  "language_info": {
   "codemirror_mode": {
    "name": "ipython",
    "version": 3
   },
   "file_extension": ".py",
   "mimetype": "text/x-python",
   "name": "python",
   "nbconvert_exporter": "python",
   "pygments_lexer": "ipython3",
   "version": "3.8.9"
  }
 },
 "nbformat": 4,
 "nbformat_minor": 2
}
